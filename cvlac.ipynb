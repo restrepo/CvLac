{
 "cells": [
  {
   "cell_type": "code",
   "execution_count": 1,
   "metadata": {},
   "outputs": [],
   "source": [
    "import pandas as pd"
   ]
  },
  {
   "cell_type": "code",
   "execution_count": 2,
   "metadata": {},
   "outputs": [],
   "source": [
    "maxrg=250 # maxrg → 250\n",
    "q='a+restrepo,d'\n",
    "df=pd.read_json('http://inspirehep.net/search?p={}&of=recjson&rg={}'.format(q,maxrg))"
   ]
  },
  {
   "cell_type": "code",
   "execution_count": 3,
   "metadata": {},
   "outputs": [],
   "source": [
    "pd.set_option('display.max_rows', 500)\n",
    "pd.set_option('display.max_columns', 500)\n",
    "pd.set_option('display.max_colwidth',200)"
   ]
  },
  {
   "cell_type": "code",
   "execution_count": 4,
   "metadata": {},
   "outputs": [],
   "source": [
    "# Extract institute=arXiv from system_control_number insitutes list\n",
    "ps=df.system_control_number.apply(lambda x: [x] if type(x)==dict else x).apply(\n",
    "                               lambda x: [y for y in x if y.get('institute')=='arXiv'] ).str[0]\n",
    "# Fill nan with empty dictionary\n",
    "df['arXiv']=ps.apply(lambda x: {} if pd.isnull(x) else x).apply(\n",
    "         lambda x: x.get('value') ).fillna('').str.split(':').str[-1]\n",
    "\n",
    "df['publication_info']=df['publication_info'].apply(lambda x: x[0] if type(x)==list else x).apply(\n",
    "                          lambda x: {} if pd.isnull(x) else x)"
   ]
  },
  {
   "cell_type": "code",
   "execution_count": 5,
   "metadata": {},
   "outputs": [],
   "source": [
    "pi=pd.DataFrame( list(df.publication_info.values) )\n",
    "\n",
    "pi=pi.rename({'title':'journal'},axis='columns')\n",
    "\n",
    "pi['year']=pi.year.fillna('-1').astype(int)\n",
    "\n",
    "pi['doi']=df.doi.apply(lambda x: x[0] if type(x)==list else x).fillna('')\n",
    "\n",
    "pi['authors']=df.authors.apply( lambda x: [ y.get('full_name') for y in x] )\n",
    "\n",
    "pi['title']=df.title.apply(lambda x: x.get('title'))\n",
    "\n",
    "pi['pages']=df.physical_description.apply(lambda x: x.get('pagination'))\n",
    "\n",
    "pi['imprint']=df.imprint.apply(lambda x: {} if pd.isnull(x) else x).apply(\n",
    "                 lambda x: x.get('date')).combine(\n",
    "    pi.year,func=lambda x,y: y if y>-1 and pd.isnull(x) else x).fillna(\n",
    "                            '0000-00-00').astype(str).apply(\n",
    "                 lambda x: x+'-00-00' if len( x.split('-'))==1 else x).apply(\n",
    "                 lambda x: x+'-00' if len( x.split('-'))==2 else x)"
   ]
  },
  {
   "cell_type": "code",
   "execution_count": 6,
   "metadata": {},
   "outputs": [
    {
     "data": {
      "text/html": [
       "<div>\n",
       "<style scoped>\n",
       "    .dataframe tbody tr th:only-of-type {\n",
       "        vertical-align: middle;\n",
       "    }\n",
       "\n",
       "    .dataframe tbody tr th {\n",
       "        vertical-align: top;\n",
       "    }\n",
       "\n",
       "    .dataframe thead th {\n",
       "        text-align: right;\n",
       "    }\n",
       "</style>\n",
       "<table border=\"1\" class=\"dataframe\">\n",
       "  <thead>\n",
       "    <tr style=\"text-align: right;\">\n",
       "      <th></th>\n",
       "      <th>cnum</th>\n",
       "      <th>pagination</th>\n",
       "      <th>reference</th>\n",
       "      <th>talk</th>\n",
       "      <th>journal</th>\n",
       "      <th>volume</th>\n",
       "      <th>year</th>\n",
       "      <th>doi</th>\n",
       "      <th>authors</th>\n",
       "      <th>title</th>\n",
       "      <th>pages</th>\n",
       "      <th>imprint</th>\n",
       "    </tr>\n",
       "  </thead>\n",
       "  <tbody>\n",
       "    <tr>\n",
       "      <th>0</th>\n",
       "      <td>NaN</td>\n",
       "      <td>075008</td>\n",
       "      <td>Phys. Rev. D 99, 075008 (2019)</td>\n",
       "      <td>NaN</td>\n",
       "      <td>Phys.Rev.</td>\n",
       "      <td>D99</td>\n",
       "      <td>2019</td>\n",
       "      <td>10.1103/PhysRevD.99.075008</td>\n",
       "      <td>[Calle, Julian, Restrepo, Diego, Yaguna, Carlos E., Zapata, Óscar]</td>\n",
       "      <td>Minimal radiative Dirac neutrino mass models</td>\n",
       "      <td>9</td>\n",
       "      <td>2019-04-10</td>\n",
       "    </tr>\n",
       "  </tbody>\n",
       "</table>\n",
       "</div>"
      ],
      "text/plain": [
       "  cnum pagination                       reference talk    journal volume  \\\n",
       "0  NaN     075008  Phys. Rev. D 99, 075008 (2019)  NaN  Phys.Rev.    D99   \n",
       "\n",
       "   year                         doi  \\\n",
       "0  2019  10.1103/PhysRevD.99.075008   \n",
       "\n",
       "                                                              authors  \\\n",
       "0  [Calle, Julian, Restrepo, Diego, Yaguna, Carlos E., Zapata, Óscar]   \n",
       "\n",
       "                                          title pages     imprint  \n",
       "0  Minimal radiative Dirac neutrino mass models     9  2019-04-10  "
      ]
     },
     "execution_count": 6,
     "metadata": {},
     "output_type": "execute_result"
    }
   ],
   "source": [
    "pi[:1]"
   ]
  },
  {
   "cell_type": "code",
   "execution_count": 11,
   "metadata": {},
   "outputs": [],
   "source": [
    "minyear=2017\n",
    "pii=pi[pi['year']>=minyear].reset_index(drop=True)"
   ]
  },
  {
   "cell_type": "code",
   "execution_count": 14,
   "metadata": {},
   "outputs": [
    {
     "data": {
      "text/plain": [
       "(9, 12)"
      ]
     },
     "execution_count": 14,
     "metadata": {},
     "output_type": "execute_result"
    }
   ],
   "source": [
    "pii.shape"
   ]
  },
  {
   "cell_type": "code",
   "execution_count": 18,
   "metadata": {},
   "outputs": [
    {
     "name": "stdout",
     "output_type": "stream",
     "text": [
      "================================================================================\n",
      "Título del artículo (*)\n",
      "Fermionic triplet dark matter in an $SO(10)$-inspired left right model\n",
      "\n",
      "\n",
      "Página Inicial(*)    Página Final(*)\n",
      "1                    9\n",
      "\n",
      "\n",
      "Año(*)      Mes\n",
      "2017        05\n",
      "\n",
      "\n",
      "Revista(*)\n",
      "Phys.Rev.\n",
      "\n",
      "\n",
      "Volumen(*)    Fascículo Revista    Serie Revista\n",
      "D95           095034\n",
      "\n",
      "\n",
      "Sitio web (URL)       DOI (Digital Object Identifier)\n",
      "http://doi.org/10.1103/PhysRevD.95.095034           10.1103/PhysRevD.95.095034\n",
      "\n",
      "\n",
      "Autores\n",
      "Arbeláez, Carolina; Hirsch, Martin; Restrepo, Diego\n",
      "Hit <ENTER> to continue...\n"
     ]
    }
   ],
   "source": [
    "from IPython.display import clear_output\n",
    "\n",
    "for i in pii.index:\n",
    "    clear_output()\n",
    "    print(\"=\"*80)\n",
    "    print('Título del artículo (*)')\n",
    "    print(pii.loc[i,'title'])\n",
    "    print(\"\\n\")\n",
    "    print( \"Página Inicial(*)    Página Final(*)\" )\n",
    "    pages=pii.loc[i,'pagination'].split('-')\n",
    "    if len(pages)==2:\n",
    "        print( \"{}                    {}\".format(pages[0],pages[-1]))\n",
    "    else:\n",
    "        print( \"{}                    {}\".format(1,pii.loc[i,'pages']))\n",
    "    print(\"\\n\")\n",
    "    print(\"Año(*)      Mes\")\n",
    "    print('{}        {}'.format(pii.loc[i,'imprint'].split('-')[0],\n",
    "                                       pii.loc[i,'imprint'].split('-')[1]))\n",
    "    print(\"\\n\")\n",
    "    print(\"Revista(*)\")\n",
    "    print(pii.loc[i,'journal'])\n",
    "    print(\"\\n\")\n",
    "    print(\"Volumen(*)    Fascículo Revista    Serie Revista\")\n",
    "    pagination=pii.loc[i,'pagination']\n",
    "    if len(pages)==2:\n",
    "        pagination=''\n",
    "            \n",
    "    print('{}           {}'.format( pii.loc[i,'volume'],\n",
    "                                        pagination) )       \n",
    "    print(\"\\n\")\n",
    "    print(\"Sitio web (URL)       DOI (Digital Object Identifier)\")\n",
    "    print('{}           {}'.format( 'http://doi.org/'+pii.loc[i,'doi'],\n",
    "                                        pii.loc[i,'doi'] ))\n",
    "    print(\"\\n\")\n",
    "    print(\"Autores\")\n",
    "    print('; '.join( pii.loc[i,'authors'] ))\n",
    "    input('Hit <ENTER> to continue...')"
   ]
  },
  {
   "cell_type": "markdown",
   "metadata": {},
   "source": [
    "# ISSN from crossref api"
   ]
  },
  {
   "cell_type": "code",
   "execution_count": 366,
   "metadata": {},
   "outputs": [],
   "source": [
    "#Default sort is descending sort=asc to change\n",
    "tmp=pd.read_json( 'https://api.crossref.org/prefixes/10.1142/works?select=ISSN&sort=published').loc['items'][0]\n",
    "kk=pd.DataFrame(tmp).dropna().sum()"
   ]
  },
  {
   "cell_type": "code",
   "execution_count": 367,
   "metadata": {},
   "outputs": [
    {
     "data": {
      "text/plain": [
       "array(['0212-6567', '1578-1275'], dtype='<U9')"
      ]
     },
     "execution_count": 367,
     "metadata": {},
     "output_type": "execute_result"
    }
   ],
   "source": [
    "pd.np.unique( kk.ISSN)"
   ]
  },
  {
   "cell_type": "code",
   "execution_count": 20,
   "metadata": {},
   "outputs": [
    {
     "data": {
      "text/plain": [
       "{'JEHP': ['1126-6708', '1029-8479'],\n",
       " 'Mod.Phys.Lett.': ['0217-7323'],\n",
       " 'Nucl.Phys.': ['0550-3213'],\n",
       " 'Phys.Lett': ['0370-2693'],\n",
       " 'Phys.Rev': ['2470-0010', '2470-0029']}"
      ]
     },
     "execution_count": 20,
     "metadata": {},
     "output_type": "execute_result"
    }
   ],
   "source": [
    "{'Phys.Rev':['2470-0010','2470-0029'],\n",
    " 'Phys.Lett':['0370-2693'],\n",
    " 'Mod.Phys.Lett.':['0217-7323'],\n",
    " 'Nucl.Phys.':['0550-3213'],\n",
    " 'JHEP':['1126-6708','1029-8479']\n",
    "}"
   ]
  },
  {
   "cell_type": "markdown",
   "metadata": {},
   "source": [
    "Listado revistas homologadas: https://drive.google.com/drive/folders/0B-mjxCw5cGbWWnRjcXA2bjBXZ2c?usp=sharing\n",
    "\n",
    "Convert PDF to Excel:\n",
    "https://www.ilovepdf.com"
   ]
  },
  {
   "cell_type": "code",
   "execution_count": null,
   "metadata": {},
   "outputs": [],
   "source": [
    "Enrico, William, "
   ]
  }
 ],
 "metadata": {
  "kernelspec": {
   "display_name": "Python 3",
   "language": "python",
   "name": "python3"
  },
  "language_info": {
   "codemirror_mode": {
    "name": "ipython",
    "version": 3
   },
   "file_extension": ".py",
   "mimetype": "text/x-python",
   "name": "python",
   "nbconvert_exporter": "python",
   "pygments_lexer": "ipython3",
   "version": "3.5.3"
  }
 },
 "nbformat": 4,
 "nbformat_minor": 2
}
